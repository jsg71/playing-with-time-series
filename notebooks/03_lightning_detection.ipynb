{
 "cells": [
  {
   "cell_type": "markdown",
   "metadata": {},
   "source": [
    "# Lightning Detection with NCD\n",
    "This notebook demonstrates compression-based lightning detection using **Normalised Compression Distance** (NCD). We also compare a simple amplitude-threshold baseline."
   ]
  },
  {
   "cell_type": "code",
   "execution_count": null,
   "metadata": {},
   "outputs": [],
   "source": [
    "import json, numpy as np, matplotlib.pyplot as plt\n",
    "from pathlib import Path\n",
    "from pandas import Series\n",
    "from sklearn.metrics import precision_recall_fscore_support, confusion_matrix\n",
    "from tqdm import tqdm\n",
    "import seaborn as sns\n",
    "from leela_ml.datamodules_npy import StrikeDataset\n",
    "from leela_ml.ncd import ncd_adjacent, ncd_first\n"
   ]
  },
  {
   "cell_type": "markdown",
   "metadata": {},
   "source": [
    "## 1. Generate synthetic data"
   ]
  },
  {
   "cell_type": "code",
   "execution_count": null,
   "metadata": {},
   "outputs": [],
   "source": [
    "from leela_ml.signal_sim.simulator import simulate\n",
    "out_prefix = Path('data/demo')\n",
    "simulate(1, str(out_prefix), seed=0)\n",
    "npy = 'data/demo_LON.npy'\n",
    "meta = 'data/demo_meta.json'\n"
   ]
  },
  {
   "cell_type": "markdown",
   "metadata": {},
   "source": [
    "## 2. Load dataset"
   ]
  },
  {
   "cell_type": "code",
   "execution_count": null,
   "metadata": {},
   "outputs": [],
   "source": [
    "ds = StrikeDataset(npy, meta, chunk_size=512, overlap=0.9)\n",
    "win = ds._windows.astype(np.float32, copy=False)\n",
    "lab = ds.labels.astype(bool)\n",
    "fs = ds.fs; hop = ds.hop\n",
    "print(\"windows\", ds.n_win, \"positives\", int(lab.sum()))\n"
   ]
  },
  {
   "cell_type": "markdown",
   "metadata": {},
   "source": [
    "## 3. NCD computation"
   ]
  },
  {
   "cell_type": "code",
   "execution_count": null,
   "metadata": {},
   "outputs": [],
   "source": [
    "err = ncd_adjacent(win, per_win_norm=True)\n",
    "win_len = max(1, int(0.01 * fs / hop))\n",
    "thr = Series(err).rolling(win_len, center=True, min_periods=1).median() + 6*Series(err).rolling(win_len, center=True, min_periods=1).apply(lambda v: np.median(np.abs(v-np.median(v))), raw=True)\n",
    "mask = err > thr.values\n",
    "tn, fp, fn, tp = confusion_matrix(lab, mask).ravel()\n",
    "P,R,F,_ = precision_recall_fscore_support(lab, mask, average='binary')\n",
    "metrics_ncd = dict(P=float(P), R=float(R), F1=float(F), TP=int(tp), FP=int(fp), FN=int(fn), TN=int(tn))\n"
   ]
  },
  {
   "cell_type": "code",
   "metadata": {},
   "source": [
    "err_first = ncd_first(win, baseline_idx=0, per_win_norm=True)\n",
    "thr_first = Series(err_first).rolling(win_len, center=True, min_periods=1).median() + 6*Series(err_first).rolling(win_len, center=True, min_periods=1).apply(lambda v: np.median(np.abs(v-np.median(v))), raw=True)\n",
    "mask_first = err_first > thr_first.values\n",
    "tn, fp, fn, tp = confusion_matrix(lab, mask_first).ravel()\n",
    "P1,R1,F1,_ = precision_recall_fscore_support(lab, mask_first, average='binary')\n",
    "metrics_first = dict(P=float(P1), R=float(R1), F1=float(F1), TP=int(tp), FP=int(fp), FN=int(fn), TN=int(tn))\n"
   ],
   "execution_count": null,
   "outputs": []
  },
  {
   "cell_type": "markdown",
   "metadata": {},
   "source": [
    "## 4. Simple amplitude threshold baseline"
   ]
  },
  {
   "cell_type": "code",
   "execution_count": null,
   "metadata": {},
   "outputs": [],
   "source": [
    "amp = np.sqrt((win**2).mean(axis=1))\n",
    "thr_amp = Series(amp).rolling(win_len, center=True, min_periods=1).median() + 6*Series(amp).rolling(win_len, center=True, min_periods=1).apply(lambda v: np.median(np.abs(v-np.median(v))), raw=True)\n",
    "mask_amp = amp > thr_amp.values\n",
    "tn, fp, fn, tp = confusion_matrix(lab, mask_amp).ravel()\n",
    "Pa,Ra,Fa,_ = precision_recall_fscore_support(lab, mask_amp, average='binary')\n",
    "metrics_amp = dict(P=float(Pa), R=float(Ra), F1=float(Fa), TP=int(tp), FP=int(fp), FN=int(fn), TN=int(tn))\n"
   ]
  },
  {
   "cell_type": "markdown",
   "metadata": {},
   "source": [
    "## 5. Compare"
   ]
  },
  {
   "cell_type": "code",
   "execution_count": null,
   "metadata": {},
   "outputs": [],
   "source": [
    "print('NCD metrics', metrics_ncd)\n",
    "print('Amplitude metrics', metrics_amp)\n"
   ]
  },
  {
   "cell_type": "markdown",
   "metadata": {},
   "source": [
    "### Plot NCD and baseline"
   ]
  },
  {
   "cell_type": "code",
   "execution_count": null,
   "metadata": {},
   "outputs": [],
   "source": [
    "plt.figure(figsize=(15,4))\n",
    "plt.plot(err, label='NCD', lw=0.4)\n",
    "plt.plot(thr, '--', label='threshold', lw=0.8)\n",
    "plt.legend(); plt.title('NCD curve')\n"
   ]
  }
 ],
 "metadata": {
  "kernelspec": {
   "display_name": "Python 3",
   "language": "python",
   "name": "python3"
  },
  "language_info": {
   "name": "python",
   "pygments_lexer": "ipython3"
  }
 },
 "nbformat": 4,
 "nbformat_minor": 4
}
