{
 "cells": [
  {
   "cell_type": "markdown",
   "id": "3ce1ad38",
   "metadata": {},
   "source": [
    "# 03 Extensive EDA – Single-Station Lightning Waveforms ⚡\n",
    "\n",
    "This notebook demonstrates an in-depth exploratory data analysis (EDA) for a single station. It mirrors the style of `01_eda.ipynb` and `02_eda.ipynb` but dives much deeper with many statistics and signal-processing visualisations.  It assumes you have generated synthetic lightning data using `scripts/sim_make.py` or obtained real recordings.\n",
    "\n",
    "We will load the waveform for one station, inspect noise characteristics, visualise several events, and experiment with classic time-series techniques to pinpoint lightning occurrences.  Later we will attempt a simple denoising approach and evaluate detection accuracy."
   ]
  },
  {
   "cell_type": "markdown",
   "id": "ba5e6d9f",
   "metadata": {},
   "source": [
    "## 0. Imports and file paths\n",
    "```python\n",
    "import numpy as np\n",
    "import json, pathlib\n",
    "import matplotlib.pyplot as plt\n",
    "import scipy.signal as sig\n",
    "```\n",
    "\n",
    "Adjust the paths below to point at your waveform (`.npy`) and its accompanying meta file."
   ]
  },
  {
   "cell_type": "code",
   "execution_count": null,
   "id": "0e7299a3",
   "metadata": {},
   "outputs": [],
   "source": [
    "# ╔══════════════════════════════════════════════════════════╗\n",
    "# ║ 0. File paths and loading helpers                       ║\n",
    "# ╚══════════════════════════════════════════════════════════╝\n",
    "import numpy as np, json, pathlib, scipy.signal as sig, matplotlib.pyplot as plt\n",
    "root = pathlib.Path('../data/synthetic')\n",
    "wave_f = root / 'storm1_LON.npy'  # single station example\n",
    "meta_f = root / 'storm1_meta.json'\n",
    "wave = np.load(wave_f, mmap_mode='r')\n",
    "meta = json.load(open(meta_f))\n",
    "fs = meta['fs']\n",
    "events = meta['events']\n",
    "print('Samples:', wave.shape[0], 'Fs=', fs)\n",
    "print('Total events:', len(events))\n",
    "print('First event:', events[0])"
   ]
  },
  {
   "cell_type": "markdown",
   "id": "35c020ba",
   "metadata": {},
   "source": [
    "## 1. First-look visualisation\n",
    "Plot the first few seconds of the waveform to see noise and a sample lightning burst.  We also compute a short-time Fourier transform (spectrogram) to examine frequency content."
   ]
  },
  {
   "cell_type": "code",
   "execution_count": null,
   "id": "1b5ecac2",
   "metadata": {},
   "outputs": [],
   "source": [
    "# ╔══════════════════════════════════════════════════════════╗\n",
    "# ║ 1. First-second waveform & spectrogram                  ║\n",
    "# ╚══════════════════════════════════════════════════════════╝\n",
    "sec = wave[:fs]\n",
    "t = np.arange(sec.size)/fs\n",
    "fig, ax = plt.subplots(2,1,figsize=(12,4),sharex=True)\n",
    "ax[0].plot(t, sec)\n",
    "ax[0].set_ylabel('E-field (arb.)'); ax[0].set_title('First second')\n",
    "ax[1].specgram(sec, Fs=fs, NFFT=2048, noverlap=1024, cmap='viridis')\n",
    "ax[1].set_xlabel('Time (s)'); ax[1].set_ylabel('Frequency (Hz)')\n",
    "plt.show()"
   ]
  },
  {
   "cell_type": "markdown",
   "id": "4b88cf91",
   "metadata": {},
   "source": [
    "## 2. Noise statistics\n",
    "We quantify baseline noise to help choose detection thresholds.  Basic statistics include mean, standard deviation, power spectral density and the amplitude envelope."
   ]
  },
  {
   "cell_type": "code",
   "execution_count": null,
   "id": "6674e6e9",
   "metadata": {},
   "outputs": [],
   "source": [
    "# ╔══════════════════════════════════════════════════════════╗\n",
    "# ║ 2. Noise characteristics                                 ║\n",
    "# ╚══════════════════════════════════════════════════════════╝\n",
    "noise_seg = wave[:fs*5]\n",
    "mean = float(noise_seg.mean())\n",
    "std = float(noise_seg.std())\n",
    "f, Pxx = sig.welch(noise_seg, fs, nperseg=4096)\n",
    "print('Mean', mean, 'Std', std)\n",
    "plt.semilogy(f, Pxx); plt.xlabel('Hz'); plt.ylabel('PSD'); plt.show()\n",
    "rect = np.abs(noise_seg)\n",
    "b, a = sig.butter(2, 500/(fs/2))\n",
    "env = sig.filtfilt(b, a, rect)\n",
    "plt.plot(np.arange(env.size)/fs, env); plt.title('Noise envelope'); plt.show()"
   ]
  },
  {
   "cell_type": "markdown",
   "id": "261e365d",
   "metadata": {},
   "source": [
    "## 3. Explore lightning events\n",
    "Loop over a few labelled events and display their waveform snippets with annotations such as predicted start time, duration and approximate peak frequency."
   ]
  },
  {
   "cell_type": "code",
   "execution_count": null,
   "id": "569e7855",
   "metadata": {},
   "outputs": [],
   "source": [
    "# ╔══════════════════════════════════════════════════════════╗\n",
    "# ║ 3. Inspect several labelled events                       ║\n",
    "# ╚══════════════════════════════════════════════════════════╝\n",
    "for ev in events[:3]:\n",
    "    i0 = int(ev['t'] * fs)\n",
    "    sl = slice(i0 - int(0.01*fs), i0 + int(0.05*fs))\n",
    "    snip = wave[sl]\n",
    "    t_snip = (np.arange(snip.size)/fs) - 0.01\n",
    "    plt.figure(figsize=(10,3))\n",
    "    plt.plot(t_snip*1000, snip)\n",
    "    plt.axvline(0, color='r', ls='--', label='event t')\n",
    "    plt.xlabel('ms'); plt.ylabel('Amplitude');\n",
    "    plt.title(f'Event at t={ev['t']:.3f}s, amp={ev['amp']:.2f}')\n",
    "    plt.legend(); plt.show()"
   ]
  },
  {
   "cell_type": "markdown",
   "id": "195f698f",
   "metadata": {},
   "source": [
    "## 4. Rolling statistics & envelope\n",
    "A moving window view helps us detect bursts. We compute rolling mean, rolling std, and a smooth envelope via Hilbert transform."
   ]
  },
  {
   "cell_type": "code",
   "execution_count": null,
   "id": "6dc38ad6",
   "metadata": {},
   "outputs": [],
   "source": [
    "# ╔══════════════════════════════════════════════════════════╗\n",
    "# ║ 4. Rolling stats and envelope                            ║\n",
    "# ╚══════════════════════════════════════════════════════════╝\n",
    "window_ms = 1\n",
    "win = int(window_ms*1e-3*fs)\n",
    "roll_mean = np.convolve(wave, np.ones(win)/win, mode='same')\n",
    "roll_std = np.sqrt(np.convolve((wave-roll_mean)**2, np.ones(win)/win, mode='same'))\n",
    "envelope = np.abs(sig.hilbert(wave))\n",
    "plt.plot(envelope[:fs*2]); plt.title('Envelope – first two seconds'); plt.show()"
   ]
  },
  {
   "cell_type": "markdown",
   "id": "7ffd34a5",
   "metadata": {},
   "source": [
    "## 5. Simple band-pass filter (denoising)\n",
    "We design a Butterworth band-pass filter to suppress low-frequency drift and high-frequency noise."
   ]
  },
  {
   "cell_type": "code",
   "execution_count": null,
   "id": "4b7074fb",
   "metadata": {},
   "outputs": [],
   "source": [
    "# ╔══════════════════════════════════════════════════════════╗\n",
    "# ║ 5. Band-pass filter                                       ║\n",
    "# ╚══════════════════════════════════════════════════════════╝\n",
    "low, high = 3000, 9000\n",
    "b, a = sig.butter(4, [low/(fs/2), high/(fs/2)], btype='band')\n",
    "wave_filt = sig.filtfilt(b, a, wave)\n",
    "plt.plot(wave[:fs], label='orig'); plt.plot(wave_filt[:fs], label='filt', alpha=0.7);\n",
    "plt.legend(); plt.title('Band-pass filtered'); plt.show()"
   ]
  },
  {
   "cell_type": "markdown",
   "id": "bd02b707",
   "metadata": {},
   "source": [
    "## 6. Burst detection via envelope threshold\n",
    "Using the filtered waveform we compute the envelope and apply a threshold based on noise statistics. Detections are compared against ground truth event times for a basic precision/recall estimate."
   ]
  },
  {
   "cell_type": "code",
   "execution_count": null,
   "id": "cebb2715",
   "metadata": {},
   "outputs": [],
   "source": [
    "# ╔══════════════════════════════════════════════════════════╗\n",
    "# ║ 6. Envelope threshold detector                           ║\n",
    "# ╚══════════════════════════════════════════════════════════╝\n",
    "env_f = np.abs(sig.hilbert(wave_filt))\n",
    "noise_level = np.median(env_f) + 6*np.median(np.abs(env_f-np.median(env_f)))\n",
    "detections = env_f > noise_level\n",
    "det_times = np.where(np.diff(detections.astype(int))==1)[0] / fs\n",
    "print('Detected events:', len(det_times))\n",
    "true_times = np.array([ev['t'] for ev in events])\n",
    "tol = 0.005\n",
    "tp = sum(np.any(np.abs(det_times[:,None]-true_times)<=tol, axis=1))\n",
    "fn = len(true_times) - tp\n",
    "fp = len(det_times) - tp\n",
    "print(f'TP={tp}, FP={fp}, FN={fn}')"
   ]
  },
  {
   "cell_type": "markdown",
   "id": "1c1593cb",
   "metadata": {},
   "source": [
    "## 7. Extract clean waveforms\n",
    "Extract short snippets around each detected event for further analysis or model training."
   ]
  },
  {
   "cell_type": "code",
   "execution_count": null,
   "id": "b9abdfe3",
   "metadata": {},
   "outputs": [],
   "source": [
    "# ╔══════════════════════════════════════════════════════════╗\n",
    "# ║ 7. Snippet extraction                                    ║\n",
    "# ╚══════════════════════════════════════════════════════════╝\n",
    "snippets = []\n",
    "for t0 in det_times:\n",
    "    i0 = int((t0 - 0.005)*fs)\n",
    "    sl = slice(max(i0,0), i0 + int(0.04*fs))\n",
    "    snippets.append(wave_filt[sl])\n",
    "plt.plot(snippets[0]); plt.title('Example snippet'); plt.show()"
   ]
  },
  {
   "cell_type": "markdown",
   "id": "309cfea4",
   "metadata": {},
   "source": [
    "## 8. Conclusions\n",
    "We showcased a wide array of EDA techniques on a single-station recording: noise analysis, spectral content, rolling statistics, simple denoising and envelope-based detection.  These provide insight into lightning signal properties and form a baseline for future modelling."
   ]
  }
 ],
 "metadata": {
  "kernelspec": {
   "display_name": "Python 3",
   "name": "python3"
  },
  "language_info": {
   "name": "python",
   "version": "3.10"
  }
 },
 "nbformat": 4,
 "nbformat_minor": 5
}
